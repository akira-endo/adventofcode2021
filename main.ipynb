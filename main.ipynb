{
 "cells": [
  {
   "cell_type": "code",
   "execution_count": null,
   "id": "203f8191-e3fa-4538-afb3-3c9d958ec717",
   "metadata": {},
   "outputs": [],
   "source": [
    "using AdventOfCode\n",
    "sessionkey = open(\"2021/session.txt\") do file\n",
    "    read(file, String)\n",
    "end\n",
    "ENV[\"AOC_SESSION\"] = sessionkey\n",
    "setup_files.(2021,1:14, force = false)"
   ]
  },
  {
   "cell_type": "markdown",
   "id": "01292235-2182-4d38-b2b3-720de9ecbc8f",
   "metadata": {},
   "source": [
    "## Day 1"
   ]
  },
  {
   "cell_type": "code",
   "execution_count": null,
   "id": "9753acbe-ce5a-430c-ab5a-183b66056bd6",
   "metadata": {},
   "outputs": [],
   "source": []
  },
  {
   "cell_type": "code",
   "execution_count": null,
   "id": "2da56a39-ff36-49cb-ad93-9377c3e461ff",
   "metadata": {},
   "outputs": [],
   "source": []
  }
 ],
 "metadata": {
  "kernelspec": {
   "display_name": "Julia (4 threads) 1.5.2",
   "language": "julia",
   "name": "julia-(4-threads)-1.5"
  },
  "language_info": {
   "file_extension": ".jl",
   "mimetype": "application/julia",
   "name": "julia",
   "version": "1.5.2"
  }
 },
 "nbformat": 4,
 "nbformat_minor": 5
}
