{
 "cells": [
  {
   "cell_type": "markdown",
   "id": "38d55616-861c-4ef3-9045-0b98bd0148b8",
   "metadata": {},
   "source": [
    "# Advent of Code 2021\n",
    "Akira Endo\n",
    "\n",
    "### Preperation"
   ]
  },
  {
   "cell_type": "code",
   "execution_count": 1,
   "id": "d226ad24-90a6-45ef-bd70-8504304f2a88",
   "metadata": {},
   "outputs": [
    {
     "name": "stderr",
     "output_type": "stream",
     "text": [
      "\u001b[32m\u001b[1m Activating\u001b[22m\u001b[39m environment at `~/OneDrive/OneDrive - London School of Hygiene and Tropical Medicine/WorkDrive/Events/AdventOfCode/adventofcode2021/Project.toml`\n"
     ]
    }
   ],
   "source": [
    "]activate ."
   ]
  },
  {
   "cell_type": "code",
   "execution_count": 2,
   "id": "41fa75d7-56e9-4477-ac28-3b5e2f23cd27",
   "metadata": {},
   "outputs": [],
   "source": [
    "using AdventOfCode"
   ]
  },
  {
   "cell_type": "code",
   "execution_count": null,
   "id": "203f8191-e3fa-4538-afb3-3c9d958ec717",
   "metadata": {},
   "outputs": [],
   "source": [
    "# Download input data\n",
    "sessionkey = open(\"2021/session.txt\") do file\n",
    "    read(file, String)\n",
    "end\n",
    "ENV[\"AOC_SESSION\"] = sessionkey\n",
    "setup_files.(2021,1:14, force = false)"
   ]
  },
  {
   "cell_type": "code",
   "execution_count": 3,
   "id": "4f3144e4-546f-4e65-ab8a-2f3a0672443c",
   "metadata": {},
   "outputs": [
    {
     "data": {
      "text/plain": [
       "adventday (generic function with 2 methods)"
      ]
     },
     "execution_count": 3,
     "metadata": {},
     "output_type": "execute_result"
    }
   ],
   "source": [
    "function adventday(day, year=2021)\n",
    "    include(string(year)*\"/src/day_\"*string(day)*\".jl\")\n",
    "    @info Base.invokelatest(part_1,input)\n",
    "    @info Base.invokelatest(part_2,input)\n",
    "    @time Base.invokelatest(part_1,input)\n",
    "    @time Base.invokelatest(part_2,input)\n",
    "    \"Day \"*string(day)*\" completed!\"\n",
    "end"
   ]
  },
  {
   "cell_type": "markdown",
   "id": "109929e5-f9d0-4715-8c72-1c2744f8fdbb",
   "metadata": {},
   "source": [
    "### Solutions"
   ]
  },
  {
   "cell_type": "code",
   "execution_count": 4,
   "id": "9753acbe-ce5a-430c-ab5a-183b66056bd6",
   "metadata": {},
   "outputs": [
    {
     "name": "stdout",
     "output_type": "stream",
     "text": [
      "  0.000083 seconds (3 allocations: 15.781 KiB)\n",
      "  0.000011 seconds (5 allocations: 47.281 KiB)\n"
     ]
    },
    {
     "name": "stderr",
     "output_type": "stream",
     "text": [
      "┌ Info: 1390\n",
      "└ @ Main In[3]:3\n",
      "┌ Info: 1457\n",
      "└ @ Main In[3]:4\n"
     ]
    },
    {
     "data": {
      "text/plain": [
       "\"Day 1 completed!\""
      ]
     },
     "execution_count": 4,
     "metadata": {},
     "output_type": "execute_result"
    }
   ],
   "source": [
    "adventday(1)"
   ]
  },
  {
   "cell_type": "code",
   "execution_count": 5,
   "id": "2da56a39-ff36-49cb-ad93-9377c3e461ff",
   "metadata": {},
   "outputs": [
    {
     "name": "stdout",
     "output_type": "stream",
     "text": [
      "  0.000795 seconds (4.00 k allocations: 281.281 KiB)\n",
      "  0.000754 seconds (4.00 k allocations: 281.281 KiB)\n"
     ]
    },
    {
     "name": "stderr",
     "output_type": "stream",
     "text": [
      "┌ Info: 2147104\n",
      "└ @ Main In[3]:3\n",
      "┌ Info: 2044620088\n",
      "└ @ Main In[3]:4\n"
     ]
    },
    {
     "data": {
      "text/plain": [
       "\"Day 2 completed!\""
      ]
     },
     "execution_count": 5,
     "metadata": {},
     "output_type": "execute_result"
    }
   ],
   "source": [
    "adventday(2)"
   ]
  },
  {
   "cell_type": "code",
   "execution_count": 6,
   "id": "6d569462-e2c4-4dd9-9f53-ce2889c5a9f1",
   "metadata": {},
   "outputs": [
    {
     "name": "stderr",
     "output_type": "stream",
     "text": [
      "┌ Info: 1540244\n",
      "└ @ Main In[3]:3\n",
      "┌ Info: 4203981\n",
      "└ @ Main In[3]:4\n"
     ]
    },
    {
     "name": "stdout",
     "output_type": "stream",
     "text": [
      "  0.000240 seconds (2.01 k allocations: 344.547 KiB)\n",
      "  0.000226 seconds (3.99 k allocations: 700.734 KiB)\n"
     ]
    },
    {
     "data": {
      "text/plain": [
       "\"Day 3 completed!\""
      ]
     },
     "execution_count": 6,
     "metadata": {},
     "output_type": "execute_result"
    }
   ],
   "source": [
    "adventday(3)"
   ]
  },
  {
   "cell_type": "code",
   "execution_count": 7,
   "id": "9f78969c-c417-487a-9d14-f0482451bf12",
   "metadata": {
    "tags": []
   },
   "outputs": [
    {
     "name": "stderr",
     "output_type": "stream",
     "text": [
      "┌ Info: 45031\n",
      "└ @ Main In[3]:3\n",
      "┌ Info: 2568\n",
      "└ @ Main In[3]:4\n"
     ]
    },
    {
     "name": "stdout",
     "output_type": "stream",
     "text": [
      "  0.000159 seconds (2.24 k allocations: 83.719 KiB)\n",
      "  0.000775 seconds (11.24 k allocations: 274.844 KiB)\n"
     ]
    },
    {
     "data": {
      "text/plain": [
       "\"Day 4 completed!\""
      ]
     },
     "execution_count": 7,
     "metadata": {},
     "output_type": "execute_result"
    }
   ],
   "source": [
    "adventday(4)"
   ]
  },
  {
   "cell_type": "code",
   "execution_count": null,
   "id": "2ac86c91-828d-40fe-a0c0-641cffcdc18d",
   "metadata": {},
   "outputs": [],
   "source": []
  }
 ],
 "metadata": {
  "kernelspec": {
   "display_name": "Julia (4 threads) 1.5.2",
   "language": "julia",
   "name": "julia-(4-threads)-1.5"
  },
  "language_info": {
   "file_extension": ".jl",
   "mimetype": "application/julia",
   "name": "julia",
   "version": "1.5.2"
  }
 },
 "nbformat": 4,
 "nbformat_minor": 5
}
