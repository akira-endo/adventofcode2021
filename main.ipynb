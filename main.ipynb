{
 "cells": [
  {
   "cell_type": "markdown",
   "id": "38d55616-861c-4ef3-9045-0b98bd0148b8",
   "metadata": {},
   "source": [
    "# Advent of Code 2021\n",
    "Akira Endo\n",
    "\n",
    "### Preperation"
   ]
  },
  {
   "cell_type": "code",
   "execution_count": 1,
   "id": "d226ad24-90a6-45ef-bd70-8504304f2a88",
   "metadata": {},
   "outputs": [
    {
     "name": "stderr",
     "output_type": "stream",
     "text": [
      "\u001b[32m\u001b[1m Activating\u001b[22m\u001b[39m environment at `~/OneDrive/OneDrive - London School of Hygiene and Tropical Medicine/WorkDrive/Events/AdventOfCode/adventofcode2021/Project.toml`\n"
     ]
    }
   ],
   "source": [
    "]activate ."
   ]
  },
  {
   "cell_type": "code",
   "execution_count": 2,
   "id": "41fa75d7-56e9-4477-ac28-3b5e2f23cd27",
   "metadata": {},
   "outputs": [
    {
     "name": "stderr",
     "output_type": "stream",
     "text": [
      "┌ Info: Precompiling AdventOfCode [7ef4cfdd-3fec-4d8b-b242-bcc5161d01d5]\n",
      "└ @ Base loading.jl:1278\n"
     ]
    }
   ],
   "source": [
    "using AdventOfCode\n",
    "Base.parse(str::AbstractString)=eval(Meta.parse(str));"
   ]
  },
  {
   "cell_type": "code",
   "execution_count": null,
   "id": "203f8191-e3fa-4538-afb3-3c9d958ec717",
   "metadata": {},
   "outputs": [],
   "source": [
    "# Download input data\n",
    "sessionkey = open(\"2021/session.txt\") do file\n",
    "    read(file, String)\n",
    "end\n",
    "ENV[\"AOC_SESSION\"] = sessionkey\n",
    "setup_files.(2021,1:14, force = false)"
   ]
  },
  {
   "cell_type": "code",
   "execution_count": 3,
   "id": "4f3144e4-546f-4e65-ab8a-2f3a0672443c",
   "metadata": {},
   "outputs": [
    {
     "data": {
      "text/plain": [
       "adventday (generic function with 2 methods)"
      ]
     },
     "execution_count": 3,
     "metadata": {},
     "output_type": "execute_result"
    }
   ],
   "source": [
    "function adventday(day, year=2021)\n",
    "    include(string(year)*\"/src/day_\"*string(day)*\".jl\")\n",
    "    @info Base.invokelatest(part_1,input)\n",
    "    @info Base.invokelatest(part_2,input)\n",
    "    @time Base.invokelatest(part_1,input)\n",
    "    @time Base.invokelatest(part_2,input)\n",
    "    \"Day \"*string(day)*\" completed!\"\n",
    "end"
   ]
  },
  {
   "cell_type": "markdown",
   "id": "109929e5-f9d0-4715-8c72-1c2744f8fdbb",
   "metadata": {},
   "source": [
    "### Solutions"
   ]
  },
  {
   "cell_type": "code",
   "execution_count": 4,
   "id": "9753acbe-ce5a-430c-ab5a-183b66056bd6",
   "metadata": {},
   "outputs": [
    {
     "name": "stdout",
     "output_type": "stream",
     "text": [
      "  0.000071 seconds (3 allocations: 15.781 KiB)\n",
      "  0.000089 seconds (5 allocations: 47.281 KiB)\n"
     ]
    },
    {
     "name": "stderr",
     "output_type": "stream",
     "text": [
      "┌ Info: 1390\n",
      "└ @ Main In[3]:3\n",
      "┌ Info: 1457\n",
      "└ @ Main In[3]:4\n"
     ]
    },
    {
     "data": {
      "text/plain": [
       "\"Day 1 completed!\""
      ]
     },
     "execution_count": 4,
     "metadata": {},
     "output_type": "execute_result"
    }
   ],
   "source": [
    "adventday(1)"
   ]
  },
  {
   "cell_type": "code",
   "execution_count": 5,
   "id": "2da56a39-ff36-49cb-ad93-9377c3e461ff",
   "metadata": {},
   "outputs": [
    {
     "name": "stdout",
     "output_type": "stream",
     "text": [
      "  0.000784 seconds (4.00 k allocations: 281.281 KiB)\n",
      "  0.000738 seconds (4.00 k allocations: 281.281 KiB)\n"
     ]
    },
    {
     "name": "stderr",
     "output_type": "stream",
     "text": [
      "┌ Info: 2147104\n",
      "└ @ Main In[3]:3\n",
      "┌ Info: 2044620088\n",
      "└ @ Main In[3]:4\n"
     ]
    },
    {
     "data": {
      "text/plain": [
       "\"Day 2 completed!\""
      ]
     },
     "execution_count": 5,
     "metadata": {},
     "output_type": "execute_result"
    }
   ],
   "source": [
    "adventday(2)"
   ]
  },
  {
   "cell_type": "code",
   "execution_count": 6,
   "id": "6d569462-e2c4-4dd9-9f53-ce2889c5a9f1",
   "metadata": {},
   "outputs": [
    {
     "name": "stderr",
     "output_type": "stream",
     "text": [
      "┌ Info: 1540244\n",
      "└ @ Main In[3]:3\n",
      "┌ Info: 4203981\n",
      "└ @ Main In[3]:4\n"
     ]
    },
    {
     "name": "stdout",
     "output_type": "stream",
     "text": [
      "  0.000137 seconds (2.01 k allocations: 344.547 KiB)\n",
      "  0.000324 seconds (3.99 k allocations: 700.734 KiB)\n"
     ]
    },
    {
     "data": {
      "text/plain": [
       "\"Day 3 completed!\""
      ]
     },
     "execution_count": 6,
     "metadata": {},
     "output_type": "execute_result"
    }
   ],
   "source": [
    "adventday(3)"
   ]
  },
  {
   "cell_type": "code",
   "execution_count": 7,
   "id": "9f78969c-c417-487a-9d14-f0482451bf12",
   "metadata": {
    "tags": []
   },
   "outputs": [
    {
     "name": "stdout",
     "output_type": "stream",
     "text": [
      "  0.000144 seconds (2.23 k allocations: 70.000 KiB)\n",
      "  0.000767 seconds (10.99 k allocations: 234.344 KiB)\n"
     ]
    },
    {
     "name": "stderr",
     "output_type": "stream",
     "text": [
      "┌ Info: 45031\n",
      "└ @ Main In[3]:3\n",
      "┌ Info: 2568\n",
      "└ @ Main In[3]:4\n"
     ]
    },
    {
     "data": {
      "text/plain": [
       "\"Day 4 completed!\""
      ]
     },
     "execution_count": 7,
     "metadata": {},
     "output_type": "execute_result"
    }
   ],
   "source": [
    "adventday(4)"
   ]
  },
  {
   "cell_type": "code",
   "execution_count": 8,
   "id": "2ac86c91-828d-40fe-a0c0-641cffcdc18d",
   "metadata": {},
   "outputs": [
    {
     "name": "stderr",
     "output_type": "stream",
     "text": [
      "┌ Info: 8350\n",
      "└ @ Main In[3]:3\n",
      "┌ Info: 19374\n",
      "└ @ Main In[3]:4\n"
     ]
    },
    {
     "name": "stdout",
     "output_type": "stream",
     "text": [
      "  0.015186 seconds (344 allocations: 8.474 MiB, 64.45% gc time)\n",
      "  0.005631 seconds (1.51 k allocations: 15.066 MiB)\n"
     ]
    },
    {
     "data": {
      "text/plain": [
       "\"Day 5 completed!\""
      ]
     },
     "execution_count": 8,
     "metadata": {},
     "output_type": "execute_result"
    }
   ],
   "source": [
    "adventday(5)"
   ]
  },
  {
   "cell_type": "code",
   "execution_count": 9,
   "id": "de359e4a-0d29-4047-84d2-1ca25c68935c",
   "metadata": {},
   "outputs": [
    {
     "name": "stdout",
     "output_type": "stream",
     "text": [
      "  0.000005 seconds (5 allocations: 5.172 KiB)\n",
      "  0.000003 seconds (5 allocations: 5.172 KiB)\n"
     ]
    },
    {
     "name": "stderr",
     "output_type": "stream",
     "text": [
      "┌ Info: 360761\n",
      "└ @ Main In[3]:3\n",
      "┌ Info: 1632779838045\n",
      "└ @ Main In[3]:4\n"
     ]
    },
    {
     "data": {
      "text/plain": [
       "\"Day 6 completed!\""
      ]
     },
     "execution_count": 9,
     "metadata": {},
     "output_type": "execute_result"
    }
   ],
   "source": [
    "adventday(6)"
   ]
  },
  {
   "cell_type": "code",
   "execution_count": 10,
   "id": "bc7d52cd-588f-42db-a51d-32379679ef3e",
   "metadata": {},
   "outputs": [
    {
     "name": "stdout",
     "output_type": "stream",
     "text": [
      "  0.000116 seconds (395 allocations: 45.594 KiB)\n",
      "  0.000047 seconds (790 allocations: 91.266 KiB)\n"
     ]
    },
    {
     "name": "stderr",
     "output_type": "stream",
     "text": [
      "┌ Info: 352331\n",
      "└ @ Main In[3]:3\n",
      "┌ Info: 99266250\n",
      "└ @ Main In[3]:4\n"
     ]
    },
    {
     "data": {
      "text/plain": [
       "\"Day 7 completed!\""
      ]
     },
     "execution_count": 10,
     "metadata": {},
     "output_type": "execute_result"
    }
   ],
   "source": [
    "adventday(7)"
   ]
  },
  {
   "cell_type": "code",
   "execution_count": 11,
   "id": "0a8069e0-2759-4b92-b3da-975140358032",
   "metadata": {},
   "outputs": [
    {
     "name": "stderr",
     "output_type": "stream",
     "text": [
      "┌ Info: 392\n",
      "└ @ Main In[3]:3\n",
      "┌ Info: 1004688\n",
      "└ @ Main In[3]:4\n"
     ]
    },
    {
     "name": "stdout",
     "output_type": "stream",
     "text": [
      "  0.000084 seconds (205 allocations: 22.109 KiB)\n",
      " 11.559790 seconds (184.48 M allocations: 17.404 GiB, 12.71% gc time)\n"
     ]
    },
    {
     "data": {
      "text/plain": [
       "\"Day 8 completed!\""
      ]
     },
     "execution_count": 11,
     "metadata": {},
     "output_type": "execute_result"
    }
   ],
   "source": [
    "adventday(8)"
   ]
  },
  {
   "cell_type": "code",
   "execution_count": 13,
   "id": "05c4c3dc-0bcd-4211-9960-b52455ddccf8",
   "metadata": {},
   "outputs": [
    {
     "name": "stderr",
     "output_type": "stream",
     "text": [
      "┌ Info: Precompiling StatsBase [2913bbd2-ae8a-5f71-8c99-4fb6c76f3a91]\n",
      "└ @ Base loading.jl:1278\n",
      "┌ Info: 475\n",
      "└ @ Main In[3]:3\n",
      "┌ Info: 1092012\n",
      "└ @ Main In[3]:4\n"
     ]
    },
    {
     "name": "stdout",
     "output_type": "stream",
     "text": [
      "  0.000147 seconds (76 allocations: 15.250 KiB)\n",
      "  0.114107 seconds (594.14 k allocations: 28.662 MiB)\n"
     ]
    },
    {
     "data": {
      "text/plain": [
       "\"Day 9 completed!\""
      ]
     },
     "execution_count": 13,
     "metadata": {},
     "output_type": "execute_result"
    }
   ],
   "source": [
    "adventday(9)"
   ]
  },
  {
   "cell_type": "code",
   "execution_count": 14,
   "id": "f73f61f6-ad91-4b75-9fe8-c3ea381323b1",
   "metadata": {},
   "outputs": [
    {
     "name": "stderr",
     "output_type": "stream",
     "text": [
      "┌ Info: 323613\n",
      "└ @ Main In[3]:3\n",
      "┌ Info: 3103006161\n",
      "└ @ Main In[3]:4\n"
     ]
    },
    {
     "name": "stdout",
     "output_type": "stream",
     "text": [
      "  0.000492 seconds (7.75 k allocations: 723.172 KiB)\n",
      "  0.001552 seconds (11.60 k allocations: 1.175 MiB)\n"
     ]
    },
    {
     "data": {
      "text/plain": [
       "\"Day 10 completed!\""
      ]
     },
     "execution_count": 14,
     "metadata": {},
     "output_type": "execute_result"
    }
   ],
   "source": [
    "adventday(10)"
   ]
  },
  {
   "cell_type": "code",
   "execution_count": 16,
   "id": "227449e3-ab65-40c8-b851-81552e86333b",
   "metadata": {},
   "outputs": [
    {
     "name": "stderr",
     "output_type": "stream",
     "text": [
      "┌ Info: 1793\n",
      "└ @ Main In[3]:3\n",
      "┌ Info: 247\n",
      "└ @ Main In[3]:4\n"
     ]
    },
    {
     "name": "stdout",
     "output_type": "stream",
     "text": [
      "  0.000563 seconds (2.37 k allocations: 198.984 KiB)\n",
      "  0.001090 seconds (5.21 k allocations: 437.688 KiB)\n"
     ]
    },
    {
     "data": {
      "text/plain": [
       "\"Day 11 completed!\""
      ]
     },
     "execution_count": 16,
     "metadata": {},
     "output_type": "execute_result"
    }
   ],
   "source": [
    "adventday(11)"
   ]
  },
  {
   "cell_type": "code",
   "execution_count": 23,
   "id": "08d01568-63c3-4f5a-af52-4ec47d1a044d",
   "metadata": {},
   "outputs": [
    {
     "name": "stderr",
     "output_type": "stream",
     "text": [
      "┌ Info: 4659\n",
      "└ @ Main In[3]:3\n",
      "┌ Info: 148962\n",
      "└ @ Main In[3]:4\n"
     ]
    },
    {
     "name": "stdout",
     "output_type": "stream",
     "text": [
      "  0.001753 seconds (12.54 k allocations: 647.078 KiB)\n",
      "  0.036549 seconds (160.22 k allocations: 9.282 MiB)\n"
     ]
    },
    {
     "data": {
      "text/plain": [
       "\"Day 12 completed!\""
      ]
     },
     "execution_count": 23,
     "metadata": {},
     "output_type": "execute_result"
    }
   ],
   "source": [
    "adventday(12)"
   ]
  },
  {
   "cell_type": "code",
   "execution_count": 19,
   "id": "6482224b-830d-4f0b-92b7-4f78f462621e",
   "metadata": {},
   "outputs": [
    {
     "name": "stderr",
     "output_type": "stream",
     "text": [
      "┌ Info: 745\n",
      "└ @ Main In[3]:3\n"
     ]
    },
    {
     "name": "stdout",
     "output_type": "stream",
     "text": [
      "0110011100100100011011110111000110001100\n",
      "1001010010101000001010000100101001010010\n",
      "1001011100110000001011100111001000010000\n",
      "1111010010101000001010000100101011010000\n",
      "1001010010101001001010000100101001010010\n",
      "1001011100100100110010000111000111001100\n",
      "  0.005462 seconds (11 allocations: 9.853 MiB)\n",
      "0110011100100100011011110111000110001100\n",
      "1001010010101000001010000100101001010010\n",
      "1001011100110000001011100111001000010000\n",
      "1111010010101000001010000100101011010000\n",
      "1001010010101001001010000100101001010010\n",
      "1001011100100100110010000111000111001100\n",
      "  0.054508 seconds (762 allocations: 65.394 MiB, 17.86% gc time)\n"
     ]
    },
    {
     "name": "stderr",
     "output_type": "stream",
     "text": [
      "┌ Info: nothing\n",
      "└ @ Main In[3]:4\n"
     ]
    },
    {
     "data": {
      "text/plain": [
       "\"Day 13 completed!\""
      ]
     },
     "execution_count": 19,
     "metadata": {},
     "output_type": "execute_result"
    }
   ],
   "source": [
    "adventday(13)"
   ]
  },
  {
   "cell_type": "code",
   "execution_count": 21,
   "id": "8f38af88-296e-4f2e-a042-787e6c7311d9",
   "metadata": {},
   "outputs": [
    {
     "name": "stderr",
     "output_type": "stream",
     "text": [
      "┌ Info: 3247\n",
      "└ @ Main In[3]:3\n",
      "┌ Info: 4110568157153\n",
      "└ @ Main In[3]:4\n"
     ]
    },
    {
     "name": "stdout",
     "output_type": "stream",
     "text": [
      "  0.005021 seconds (78.34 k allocations: 6.199 MiB)\n",
      "  0.003679 seconds (1.61 k allocations: 666.828 KiB)\n"
     ]
    },
    {
     "data": {
      "text/plain": [
       "\"Day 14 completed!\""
      ]
     },
     "execution_count": 21,
     "metadata": {},
     "output_type": "execute_result"
    }
   ],
   "source": [
    "adventday(14)"
   ]
  },
  {
   "cell_type": "code",
   "execution_count": 17,
   "id": "e48b5e20-6b25-4bb5-a7c1-5b011040f224",
   "metadata": {},
   "outputs": [
    {
     "name": "stderr",
     "output_type": "stream",
     "text": [
      "┌ Info: 604\n",
      "└ @ Main In[3]:3\n",
      "┌ Info: 2907\n",
      "└ @ Main In[3]:4\n"
     ]
    },
    {
     "name": "stdout",
     "output_type": "stream",
     "text": [
      "  0.006367 seconds (30.35 k allocations: 5.282 MiB)\n",
      "  0.441900 seconds (751.73 k allocations: 137.345 MiB, 56.92% gc time)\n"
     ]
    },
    {
     "data": {
      "text/plain": [
       "\"Day 15 completed!\""
      ]
     },
     "execution_count": 17,
     "metadata": {},
     "output_type": "execute_result"
    }
   ],
   "source": [
    "adventday(15)"
   ]
  },
  {
   "cell_type": "code",
   "execution_count": 22,
   "id": "8c4ad29b-fc84-4d77-93bb-973353df04c0",
   "metadata": {},
   "outputs": [
    {
     "name": "stderr",
     "output_type": "stream",
     "text": [
      "┌ Info: 860\n",
      "└ @ Main In[3]:3\n",
      "┌ Info: 470949537659\n",
      "└ @ Main In[3]:4\n"
     ]
    },
    {
     "name": "stdout",
     "output_type": "stream",
     "text": [
      "  0.000256 seconds (3.59 k allocations: 170.812 KiB)\n",
      "  0.000360 seconds (4.14 k allocations: 195.125 KiB)\n"
     ]
    },
    {
     "data": {
      "text/plain": [
       "\"Day 16 completed!\""
      ]
     },
     "execution_count": 22,
     "metadata": {},
     "output_type": "execute_result"
    }
   ],
   "source": [
    "adventday(16)"
   ]
  },
  {
   "cell_type": "code",
   "execution_count": 24,
   "id": "ce6149a8-b8a6-4e3a-89f2-ce0e2a4294bb",
   "metadata": {},
   "outputs": [
    {
     "name": "stdout",
     "output_type": "stream",
     "text": [
      "  0.000010 seconds (3 allocations: 112 bytes)\n",
      "  0.001030 seconds (5 allocations: 192 bytes)\n"
     ]
    },
    {
     "name": "stderr",
     "output_type": "stream",
     "text": [
      "┌ Info: 11781\n",
      "└ @ Main In[3]:3\n",
      "┌ Info: 4531\n",
      "└ @ Main In[3]:4\n"
     ]
    },
    {
     "data": {
      "text/plain": [
       "\"Day 17 completed!\""
      ]
     },
     "execution_count": 24,
     "metadata": {},
     "output_type": "execute_result"
    }
   ],
   "source": [
    "adventday(17)"
   ]
  },
  {
   "cell_type": "code",
   "execution_count": null,
   "id": "3d3b9f03-7441-4060-b390-06380052335e",
   "metadata": {},
   "outputs": [],
   "source": []
  }
 ],
 "metadata": {
  "kernelspec": {
   "display_name": "Julia (4 threads) 1.5.2",
   "language": "julia",
   "name": "julia-(4-threads)-1.5"
  },
  "language_info": {
   "file_extension": ".jl",
   "mimetype": "application/julia",
   "name": "julia",
   "version": "1.5.2"
  }
 },
 "nbformat": 4,
 "nbformat_minor": 5
}
